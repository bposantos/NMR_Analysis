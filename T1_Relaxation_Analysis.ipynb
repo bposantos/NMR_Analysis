{
  "nbformat": 4,
  "nbformat_minor": 0,
  "metadata": {
    "colab": {
      "provenance": [],
      "authorship_tag": "ABX9TyPBIBwhRJaqlisHWP7Y8MAS",
      "include_colab_link": true
    },
    "kernelspec": {
      "name": "python3",
      "display_name": "Python 3"
    },
    "language_info": {
      "name": "python"
    }
  },
  "cells": [
    {
      "cell_type": "markdown",
      "metadata": {
        "id": "view-in-github",
        "colab_type": "text"
      },
      "source": [
        "<a href=\"https://colab.research.google.com/github/bposantos/nmr/blob/main/T1_relaxation_peptide.ipynb\" target=\"_parent\"><img src=\"https://colab.research.google.com/assets/colab-badge.svg\" alt=\"Open In Colab\"/></a>"
      ]
    },
    {
      "cell_type": "markdown",
      "source": [
        "# T1 relaxation curve fitting"
      ],
      "metadata": {
        "id": "QnIwWFDX6KiY"
      }
    },
    {
      "cell_type": "markdown",
      "source": [
        "## Data importing and preprocessing"
      ],
      "metadata": {
        "id": "mdW0UY3m6RKY"
      }
    },
    {
      "cell_type": "code",
      "source": [
        "#Necessary libraries\n",
        "import gspread\n",
        "from google.colab import auth\n",
        "from google.auth import default\n",
        "import pandas as pd\n",
        "import matplotlib.pyplot as plt\n",
        "import string\n",
        "import numpy as np"
      ],
      "metadata": {
        "id": "fp6U7fDB6XUQ"
      },
      "execution_count": null,
      "outputs": []
    },
    {
      "cell_type": "code",
      "source": [
        "# User authentication\n",
        "auth.authenticate_user()\n",
        "\n",
        "# Credentials\n",
        "creds, _ = default()\n",
        "gc = gspread.authorize(creds)"
      ],
      "metadata": {
        "id": "UhJsRJN36fjY"
      },
      "execution_count": null,
      "outputs": []
    },
    {
      "cell_type": "code",
      "source": [
        "# File openning\n",
        "sheet_name = 't1_peptide'\n",
        "sheet = gc.open(sheet_name)\n",
        "\n",
        "# Choosing the pages of the file\n",
        "page_name1 = 'pep1'\n",
        "page1 = sheet.worksheet(page_name1)\n",
        "page_name2 = 'pep2'\n",
        "page2 = sheet.worksheet(page_name2)\n",
        "page_name3 = 'pep3'\n",
        "page3 = sheet.worksheet(page_name3)\n",
        "page_name4 = 'pep4'\n",
        "page4 = sheet.worksheet(page_name4)\n",
        "page_name5 = 'pep5'\n",
        "page5 = sheet.worksheet(page_name5)\n",
        "page_name6 = 'pep6'\n",
        "page6 = sheet.worksheet(page_name6)"
      ],
      "metadata": {
        "id": "NGDDvg9g6n_H"
      },
      "execution_count": null,
      "outputs": []
    },
    {
      "cell_type": "code",
      "source": [
        "# Obtaining data values\n",
        "data1 = page1.get_all_values()\n",
        "data2 = page2.get_all_values()\n",
        "data3 = page3.get_all_values()\n",
        "data4 = page4.get_all_values()\n",
        "data5 = page5.get_all_values()\n",
        "data6 = page6.get_all_values()"
      ],
      "metadata": {
        "id": "l9qCFYux8dqf"
      },
      "execution_count": null,
      "outputs": []
    },
    {
      "cell_type": "code",
      "source": [
        "# Pandas dataframes\n",
        "df1 = pd.DataFrame(data1[1:], columns=data1[0])\n",
        "df2 = pd.DataFrame(data2[1:], columns=data2[0])\n",
        "df3 = pd.DataFrame(data3[1:], columns=data3[0])\n",
        "df4 = pd.DataFrame(data4[1:], columns=data4[0])\n",
        "df5 = pd.DataFrame(data5[1:], columns=data5[0])\n",
        "df6 = pd.DataFrame(data6[1:], columns=data6[0])"
      ],
      "metadata": {
        "id": "RGR5EccK8lUU"
      },
      "execution_count": null,
      "outputs": []
    },
    {
      "cell_type": "code",
      "source": [
        "# Dataframes list\n",
        "dataframes = [df1, df2, df3, df4, df5, df6]"
      ],
      "metadata": {
        "id": "wRvML4rRmmbj"
      },
      "execution_count": null,
      "outputs": []
    },
    {
      "cell_type": "code",
      "source": [
        "# Excluding undersired rows\n",
        "row_to_exclude = [0,1]\n",
        "\n",
        "for i, df in enumerate(dataframes,start=1):\n",
        "    # Filtering rows with the excluded index\n",
        "    df.drop(df.index[row_to_exclude], inplace=True)\n",
        "    print(f\"The dataframe {i} has been adjusted.\")"
      ],
      "metadata": {
        "id": "SCvc1Gjyfjh4"
      },
      "execution_count": null,
      "outputs": []
    },
    {
      "cell_type": "code",
      "source": [
        "# Converting the intensity column to numeric\n",
        "for i,df in enumerate(dataframes,start=1):\n",
        "  df['Intensity'] = pd.to_numeric(df['Intensity'])"
      ],
      "metadata": {
        "id": "71S5VjdJ_STO"
      },
      "execution_count": null,
      "outputs": []
    },
    {
      "cell_type": "markdown",
      "source": [
        "## Curve Fitting"
      ],
      "metadata": {
        "id": "r_-2WGpRC6__"
      }
    },
    {
      "cell_type": "code",
      "source": [
        "# Libraries\n",
        "import numpy as np\n",
        "from scipy.optimize import curve_fit\n",
        "from matplotlib import gridspec\n",
        "import string"
      ],
      "metadata": {
        "id": "lztPrnINC_ye"
      },
      "execution_count": null,
      "outputs": []
    },
    {
      "cell_type": "code",
      "source": [
        "# Exponential function with a negative exponential term (T1 relaxation curve)\n",
        "\"\"\"\n",
        "Determining the T1 relaxation time involves fitting experimental data to a suitable relaxation model.\n",
        "T1 relaxation is a characteristic time constant that describes the time it takes for a nuclear spin system\n",
        "to return to equilibrium after being perturbed.\n",
        "\n",
        "The most common model for T1 relaxation is an exponential recovery model, often expressed as:\n",
        "Mz(t) = M0 . (1 - 2 . e^(-t/T1))\n",
        "\n",
        "where Mz(t) is the magnetization at time t, M0 is the initial magnetization, T1 is the T1 relaxation time constant, and x(t) is the time-dependent, with e being the base of the natural logarithm.\n",
        "\"\"\"\n",
        "def func(x,a,b):\n",
        "    return a * (1 - 2 * np.exp(-x / b))"
      ],
      "metadata": {
        "id": "-4c-DhvlwkDy"
      },
      "execution_count": null,
      "outputs": []
    },
    {
      "cell_type": "code",
      "source": [
        "# Seaborn importing\n",
        "import seaborn as sns\n",
        "sns.set_theme(style=\"white\")\n",
        "sns.set_style(\"ticks\", {\"xtick.major.size\": 8, \"ytick.major.size\": 8})\n",
        "sns.set_context(\"paper\", font_scale=1.5)"
      ],
      "metadata": {
        "id": "RXPAsJE2RwgY"
      },
      "execution_count": null,
      "outputs": []
    },
    {
      "cell_type": "code",
      "source": [
        "# Setting style and pallete\n",
        "print(plt.style.available)\n",
        "plt.style.use('seaborn-v0_8-paper')"
      ],
      "metadata": {
        "colab": {
          "base_uri": "https://localhost:8080/"
        },
        "id": "LiFNBHFWDCiP",
        "outputId": "fa8b8446-ab59-4eb3-f3ef-66d2998560ee"
      },
      "execution_count": null,
      "outputs": [
        {
          "output_type": "stream",
          "name": "stdout",
          "text": [
            "['Solarize_Light2', '_classic_test_patch', '_mpl-gallery', '_mpl-gallery-nogrid', 'bmh', 'classic', 'dark_background', 'fast', 'fivethirtyeight', 'ggplot', 'grayscale', 'seaborn-v0_8', 'seaborn-v0_8-bright', 'seaborn-v0_8-colorblind', 'seaborn-v0_8-dark', 'seaborn-v0_8-dark-palette', 'seaborn-v0_8-darkgrid', 'seaborn-v0_8-deep', 'seaborn-v0_8-muted', 'seaborn-v0_8-notebook', 'seaborn-v0_8-paper', 'seaborn-v0_8-pastel', 'seaborn-v0_8-poster', 'seaborn-v0_8-talk', 'seaborn-v0_8-ticks', 'seaborn-v0_8-white', 'seaborn-v0_8-whitegrid', 'tableau-colorblind10']\n"
          ]
        }
      ]
    },
    {
      "cell_type": "code",
      "source": [
        "# Converting the time column to numeric\n",
        "for i,df in enumerate(dataframes,start=1):\n",
        "  df.iloc[:, 0] = pd.to_numeric(df.iloc[:, 0], errors='coerce')\n",
        "\n",
        "  # Normalization\n",
        "  df.iloc[:,0] = df.iloc[:,0]/(df.iloc[:,0]).max()\n",
        "  df.iloc[:,1] = df.iloc[:,1]/max(df.iloc[:,1])"
      ],
      "metadata": {
        "colab": {
          "base_uri": "https://localhost:8080/"
        },
        "id": "Oj5tQZ74P3Ar",
        "outputId": "d0fba5f5-9650-417a-9dbb-081dca55bf09"
      },
      "execution_count": null,
      "outputs": [
        {
          "output_type": "stream",
          "name": "stderr",
          "text": [
            "<ipython-input-16-c6b9f18b84fe>:3: DeprecationWarning: In a future version, `df.iloc[:, i] = newvals` will attempt to set the values inplace instead of always setting a new array. To retain the old behavior, use either `df[df.columns[i]] = newvals` or, if columns are non-unique, `df.isetitem(i, newvals)`\n",
            "  df.iloc[:, 0] = pd.to_numeric(df.iloc[:, 0], errors='coerce')\n"
          ]
        }
      ]
    },
    {
      "cell_type": "markdown",
      "source": [
        "## Plotting"
      ],
      "metadata": {
        "id": "k8iI07IwszKF"
      }
    },
    {
      "cell_type": "code",
      "source": [
        "from scipy.optimize import curve_fit"
      ],
      "metadata": {
        "id": "ze1I1rzmcqIK"
      },
      "execution_count": null,
      "outputs": []
    },
    {
      "cell_type": "markdown",
      "source": [
        "### T1 curves"
      ],
      "metadata": {
        "id": "lcW6m53rdfcL"
      }
    },
    {
      "cell_type": "code",
      "source": [
        "# Subplotting grid size\n",
        "num_rows = 3\n",
        "num_cols = 3\n",
        "\n",
        "# Subplotting creation\n",
        "fig, axs = plt.subplots(num_rows, num_cols, figsize=(15, 15))\n",
        "\n",
        "# Subplots unpacking\n",
        "axs = axs.ravel()\n",
        "\n",
        "# DataFrames iteration\n",
        "for i, df in enumerate(dataframes):\n",
        "    xdata = df['Time (ms)'].astype(float).values\n",
        "    ydata = df['Intensity'].values\n",
        "\n",
        "    popt, pcov = curve_fit(func, xdata, ydata)\n",
        "    print(f\"O valor do dataframe {i + 1} é: {popt[0]:.3f} e {popt[1]:.3f}\")\n",
        "\n",
        "    # Índices do subplot na grade\n",
        "    row = i // num_cols\n",
        "    col = i % num_cols\n",
        "\n",
        "    # Plotagem nos subplots\n",
        "    axs[i].plot(xdata, ydata, 'bo', label='data')\n",
        "    axs[i].plot(xdata, func(xdata, *popt), 'r-', label='fit')\n",
        "    axs[i].legend(loc='best')\n",
        "    #axs[i].set_title(f'DataFrame {i + 1}')\n",
        "    axs[0].set_title(f'pep1')\n",
        "    axs[1].set_title(f'pep2')\n",
        "    axs[2].set_title(f'pep3')\n",
        "    axs[3].set_title(f'pep4')\n",
        "    axs[4].set_title(f'pep5')\n",
        "    axs[5].set_title(f'pep6')\n",
        "    axs[i].set_xlabel('Time (ms)')\n",
        "    axs[i].set_ylabel('Signal (a.u.)')\n",
        "\n",
        "    # Calculate R-squared\n",
        "    residuals = ydata - func(xdata, *popt)\n",
        "    ss_res = np.sum(residuals**2)\n",
        "    ss_tot = np.sum((ydata - np.mean(xdata))**2)\n",
        "    r_squared = 1 - (ss_res / ss_tot)\n",
        "\n",
        "    # Text\n",
        "    textstr = '\\n'.join((\n",
        "        r'$R^2=%.3f$' % (r_squared, ),\n",
        "        f\"I = {popt[0]:.3f} *(1 - 2 * e^(-x/{popt[1]:.3f}))\"))\n",
        "    props = dict(boxstyle='round', facecolor='wheat', alpha=0.5)\n",
        "    axs[i].text(0.35, -0.55, textstr, fontsize=8, verticalalignment='top', bbox=props)\n",
        "\n",
        "    # Exporting formulas\n",
        "    y_formula = f\"I = {popt[0]:.3f} *(1 - 2 * e^(-x/{popt[1]:.3f}))\"\n",
        "\n",
        "    # Assigning formulas to different variables\n",
        "    globals()[f'df{i}_formula'] = y_formula\n",
        "\n",
        "# Final adjustments\n",
        "plt.suptitle('Lunatin1 analogues', fontsize=24, fontweight='bold', y=1.02)\n",
        "plt.tight_layout()\n",
        "plt.show()"
      ],
      "metadata": {
        "id": "YY6DK0VNdc0l"
      },
      "execution_count": null,
      "outputs": []
    },
    {
      "cell_type": "markdown",
      "source": [
        "### T1 values barplot"
      ],
      "metadata": {
        "id": "tPmp_0jPdj4g"
      }
    },
    {
      "cell_type": "code",
      "source": [
        "# T1 values list\n",
        "popt_values = []\n",
        "\n",
        "# Peptide names list\n",
        "dataset_labels=['pep1', 'pep2', 'pep3', 'pep4', 'pep5', 'pep6']\n",
        "\n",
        "# DataFrames Iteration\n",
        "for i, df in enumerate(dataframes):\n",
        "    xdata = df['Time (ms)'].astype(float).values\n",
        "    ydata = df['Intensity'].values\n",
        "\n",
        "    popt, pcov = curve_fit(func, xdata, ydata)\n",
        "    popt_values.append(popt[0])\n",
        "\n",
        "# Figure resolution adjustment\n",
        "%config InlineBackend.figure_format = 'retina'\n",
        "\n",
        "# Barplot creation\n",
        "sns.barplot(x=dataset_labels, y=popt_values, palette='rocket')\n",
        "plt.xlabel('Peptides')\n",
        "plt.ylabel('T1 (s)')\n",
        "plt.title('T1 values')\n",
        "plt.show()"
      ],
      "metadata": {
        "id": "kV4XxIENePZ_"
      },
      "execution_count": null,
      "outputs": []
    }
  ]
}
